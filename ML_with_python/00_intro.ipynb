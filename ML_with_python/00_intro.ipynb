{
 "cells": [
  {
   "cell_type": "markdown",
   "id": "556714cd-78db-42a1-b68c-55b74d2fac11",
   "metadata": {},
   "source": [
    "## NumPY"
   ]
  },
  {
   "cell_type": "markdown",
   "id": "8a13d934-1719-409b-a5f7-f67e156ec9e5",
   "metadata": {},
   "source": [
    "one of the fundamental packages for scientific computing in Python\n",
    "\n",
    "Contains functionality for:\n",
    "- multidimensional arrays\n",
    "- high-level mathematical functions (such as linear algebra operations and the Fourier transform, and pseudorandom\n",
    "number generators)\n",
    "\n",
    "In **scikit-learn**, the NumPy array is the fundamental data structure.       \n",
    "**scikit-learn** takes in data in the form of NumPy arrays. (Any data has to be converted to NumPy array)           \n",
    "The core functionality of NumPy is the ndarray class, a multidimensional (n-dimensional) array            \n",
    "All elements of the array must be of the same type.    \n",
    "\n",
    "A NumPy array looks like following:     "
   ]
  },
  {
   "cell_type": "code",
   "execution_count": 37,
   "id": "676c95f8-fa84-4fcd-9179-f7d2129cdb19",
   "metadata": {},
   "outputs": [
    {
     "name": "stdout",
     "output_type": "stream",
     "text": [
      "x:\n",
      "[[1 2 3]\n",
      " [4 5 6]]\n"
     ]
    }
   ],
   "source": [
    "import numpy as np\n",
    "\n",
    "x = np.array([[1, 2, 3], [4, 5, 6]])\n",
    "print(\"x:\\n{}\".format(x))"
   ]
  },
  {
   "cell_type": "markdown",
   "id": "b4a5ab7c-0a43-4cf9-aced-26df929fbeac",
   "metadata": {},
   "source": [
    "## SciPy"
   ]
  },
  {
   "cell_type": "markdown",
   "id": "4d28d622-25c8-4f40-97ad-df266005ca0d",
   "metadata": {},
   "source": [
    "is a collection of functions for scientific computing in Python       \n",
    "Contains functionality for:\n",
    "- advanced linear algebra routines\n",
    "- mathematical function optimization\n",
    "- signal processing\n",
    "- special mathematical functions\n",
    "- statistical distributions\n",
    "\n",
    "**scikit-learn** draws from _SciPy_'s collection of functions for implementing its algorithms      \n",
    "The most important part of SciPy for us is `scipy.sparse`, which provides _sparse matrices_             \n",
    "**sparse matrices** are another representation which is used for data in **scikit-learn**     \n",
    "**sparese matrices** are used whenever we want to store a 2D array that contains mostly zeros"
   ]
  },
  {
   "cell_type": "code",
   "execution_count": 42,
   "id": "b07e2ca4-c23a-4230-b3cd-cc35b8d996b6",
   "metadata": {},
   "outputs": [
    {
     "name": "stdout",
     "output_type": "stream",
     "text": [
      "NumPy array:\n",
      "[[1. 0. 0. 0.]\n",
      " [0. 1. 0. 0.]\n",
      " [0. 0. 1. 0.]\n",
      " [0. 0. 0. 1.]]\n"
     ]
    }
   ],
   "source": [
    "from scipy import sparse\n",
    "\n",
    "# Create a 2D NumPy array with a diagonal of ones, and zeros everywhere else\n",
    "eye = np.eye(4)\n",
    "print(\"NumPy array:\\n{}\".format(eye))"
   ]
  },
  {
   "cell_type": "code",
   "execution_count": 44,
   "id": "906db77f-2a57-40fe-815a-b8709e4a30c6",
   "metadata": {},
   "outputs": [
    {
     "name": "stdout",
     "output_type": "stream",
     "text": [
      "\n",
      "SciPy sparse CSR matrix:\n",
      "  (0, 0)\t1.0\n",
      "  (1, 1)\t1.0\n",
      "  (2, 2)\t1.0\n",
      "  (3, 3)\t1.0\n"
     ]
    }
   ],
   "source": [
    "# Convert the NumPy array to a SciPy sparse matrix in CSR format\n",
    "# Only the nonzero entries are stored\n",
    "sparse_matrix = sparse.csr_matrix(eye)\n",
    "print(\"\\nSciPy sparse CSR matrix:\\n{}\".format(sparse_matrix))"
   ]
  },
  {
   "cell_type": "markdown",
   "id": "78aa8d4a-fab5-4fc5-bf2c-a7ab35565db3",
   "metadata": {},
   "source": [
    "Usually it is not possible to create dense representations of sparse data (as they would not fit into memory), so we need to create sparse representations directly. Here is a way to create the same sparse matrix as before, using the **COO** format"
   ]
  },
  {
   "cell_type": "code",
   "execution_count": 47,
   "id": "aefd05a3-d5f7-4be2-a1db-026ccac96df4",
   "metadata": {},
   "outputs": [
    {
     "name": "stdout",
     "output_type": "stream",
     "text": [
      "COO representation:\n",
      "  (0, 0)\t1.0\n",
      "  (1, 1)\t1.0\n",
      "  (2, 2)\t1.0\n",
      "  (3, 3)\t1.0\n"
     ]
    }
   ],
   "source": [
    "data = np.ones(4)\n",
    "row_indices = np.arange(4)\n",
    "col_indices = np.arange(4)\n",
    "eye_coo = sparse.coo_matrix((data, (row_indices, col_indices)))\n",
    "print(\"COO representation:\\n{}\".format(eye_coo))"
   ]
  },
  {
   "cell_type": "markdown",
   "id": "b44f9124-0d94-4e04-ba1b-53484965192b",
   "metadata": {},
   "source": [
    "## matplotlib    \n",
    "is the primary scientific plotting library in Python.                 \n",
    "It provides functions for making publication-quality visualizations such as _line charts_, _histograms_, _scatter plots_, and so on.      \n",
    "In the Jupyter Notebook, you can show figures directly in the browser, using the `%matplotlib notebook` and `%matplotlib inline` commands       \n",
    "We recommend using `%matplotlib notebook`, which provides an interactive environment"
   ]
  },
  {
   "cell_type": "code",
   "execution_count": 52,
   "id": "dbd2fbb1-4446-4278-ae3b-503e1cc8c2f4",
   "metadata": {},
   "outputs": [
    {
     "data": {
      "text/plain": [
       "[<matplotlib.lines.Line2D at 0x1f8763ee330>]"
      ]
     },
     "execution_count": 52,
     "metadata": {},
     "output_type": "execute_result"
    }
   ],
   "source": [
    "%matplotlib notebook\n",
    "import matplotlib.pyplot as plt\n",
    "\n",
    "# Generate a sequence of numbers from -10 to 10 with 100 steps in between\n",
    "x = np.linspace(-10, 10, 100)\n",
    "# Create a second array using sine\n",
    "y = np.sin(x)\n",
    "# The plot function makes a line chart of one array against another\n",
    "plt.plot(x, y, marker=\"x\")"
   ]
  },
  {
   "cell_type": "markdown",
   "id": "96dad369-6b52-4886-97cf-0c728c763e88",
   "metadata": {},
   "source": [
    "## pandas     \n",
    "Python library for data wrangling and analysis     \n",
    "built around a data structure called the DataFrame that is modeled after the R DataFrame     \n",
    "Another words, DataFrame is a table similar to Excel spreadsheet.    \n",
    "**pandas** provides great range of methods to modify and operate on this table i.e. SQL-like queries and joins of tables.        \n",
    "As opposed to NumPy which requires all the entries in array of same type, pandas allows each column to have separate type.         \n",
    "**pandas** also allows you to ingest from variety of file formats and databases, like SQL, Excel files and CSV files.      \n",
    "\n",
    "Following example illustrates the creation of DaraFrame using a dictionary:"
   ]
  },
  {
   "cell_type": "code",
   "execution_count": 55,
   "id": "fc0fd7de-5c4a-4707-9271-06459b529979",
   "metadata": {},
   "outputs": [
    {
     "data": {
      "text/html": [
       "<div>\n",
       "<style scoped>\n",
       "    .dataframe tbody tr th:only-of-type {\n",
       "        vertical-align: middle;\n",
       "    }\n",
       "\n",
       "    .dataframe tbody tr th {\n",
       "        vertical-align: top;\n",
       "    }\n",
       "\n",
       "    .dataframe thead th {\n",
       "        text-align: right;\n",
       "    }\n",
       "</style>\n",
       "<table border=\"1\" class=\"dataframe\">\n",
       "  <thead>\n",
       "    <tr style=\"text-align: right;\">\n",
       "      <th></th>\n",
       "      <th>Name</th>\n",
       "      <th>Location</th>\n",
       "      <th>Age</th>\n",
       "    </tr>\n",
       "  </thead>\n",
       "  <tbody>\n",
       "    <tr>\n",
       "      <th>0</th>\n",
       "      <td>John</td>\n",
       "      <td>New York</td>\n",
       "      <td>24</td>\n",
       "    </tr>\n",
       "    <tr>\n",
       "      <th>1</th>\n",
       "      <td>Anna</td>\n",
       "      <td>Paris</td>\n",
       "      <td>13</td>\n",
       "    </tr>\n",
       "    <tr>\n",
       "      <th>2</th>\n",
       "      <td>Peter</td>\n",
       "      <td>Berlin</td>\n",
       "      <td>53</td>\n",
       "    </tr>\n",
       "    <tr>\n",
       "      <th>3</th>\n",
       "      <td>Linda</td>\n",
       "      <td>London</td>\n",
       "      <td>33</td>\n",
       "    </tr>\n",
       "  </tbody>\n",
       "</table>\n",
       "</div>"
      ],
      "text/plain": [
       "    Name  Location  Age\n",
       "0   John  New York   24\n",
       "1   Anna     Paris   13\n",
       "2  Peter    Berlin   53\n",
       "3  Linda    London   33"
      ]
     },
     "metadata": {},
     "output_type": "display_data"
    }
   ],
   "source": [
    "import pandas as pd\n",
    "\n",
    "# create a simple dataset of people\n",
    "data = {'Name': [\"John\", \"Anna\", \"Peter\", \"Linda\"],\n",
    "'Location' : [\"New York\", \"Paris\", \"Berlin\", \"London\"],\n",
    "'Age' : [24, 13, 53, 33]\n",
    "}\n",
    "data_pandas = pd.DataFrame(data)\n",
    "\n",
    "# IPython.display allows \"pretty printing\" of dataframes\n",
    "# in the Jupyter notebook\n",
    "display(data_pandas)"
   ]
  },
  {
   "cell_type": "code",
   "execution_count": 57,
   "id": "d5d4da55-49f0-40cc-9bc4-30bff11d2231",
   "metadata": {},
   "outputs": [
    {
     "data": {
      "text/html": [
       "<div>\n",
       "<style scoped>\n",
       "    .dataframe tbody tr th:only-of-type {\n",
       "        vertical-align: middle;\n",
       "    }\n",
       "\n",
       "    .dataframe tbody tr th {\n",
       "        vertical-align: top;\n",
       "    }\n",
       "\n",
       "    .dataframe thead th {\n",
       "        text-align: right;\n",
       "    }\n",
       "</style>\n",
       "<table border=\"1\" class=\"dataframe\">\n",
       "  <thead>\n",
       "    <tr style=\"text-align: right;\">\n",
       "      <th></th>\n",
       "      <th>Name</th>\n",
       "      <th>Location</th>\n",
       "      <th>Age</th>\n",
       "    </tr>\n",
       "  </thead>\n",
       "  <tbody>\n",
       "    <tr>\n",
       "      <th>2</th>\n",
       "      <td>Peter</td>\n",
       "      <td>Berlin</td>\n",
       "      <td>53</td>\n",
       "    </tr>\n",
       "    <tr>\n",
       "      <th>3</th>\n",
       "      <td>Linda</td>\n",
       "      <td>London</td>\n",
       "      <td>33</td>\n",
       "    </tr>\n",
       "  </tbody>\n",
       "</table>\n",
       "</div>"
      ],
      "text/plain": [
       "    Name Location  Age\n",
       "2  Peter   Berlin   53\n",
       "3  Linda   London   33"
      ]
     },
     "metadata": {},
     "output_type": "display_data"
    }
   ],
   "source": [
    "# Select all rows that have an age column greater than 30\n",
    "display(data_pandas[data_pandas.Age > 30])"
   ]
  },
  {
   "cell_type": "markdown",
   "id": "26b4ad77-a575-4493-b609-31ed414b5d3a",
   "metadata": {},
   "source": [
    "### Print versions"
   ]
  },
  {
   "cell_type": "code",
   "execution_count": 60,
   "id": "9eb2c0f9-3189-44ac-b5dc-82abfdd6c128",
   "metadata": {},
   "outputs": [
    {
     "name": "stdout",
     "output_type": "stream",
     "text": [
      "Python version: 3.12.7 | packaged by Anaconda, Inc. | (main, Oct  4 2024, 13:17:27) [MSC v.1929 64 bit (AMD64)]\n",
      "pandas version: 2.2.2\n",
      "matplotlib version: 3.9.2\n",
      "NumPy version: 1.26.4\n",
      "SciPy version: 1.13.1\n",
      "IPython version: 8.27.0\n",
      "scikit-learn version: 1.5.1\n"
     ]
    }
   ],
   "source": [
    "import sys\n",
    "print(\"Python version: {}\".format(sys.version))\n",
    "\n",
    "import pandas as pd\n",
    "print(\"pandas version: {}\".format(pd.__version__))\n",
    "\n",
    "import matplotlib\n",
    "print(\"matplotlib version: {}\".format(matplotlib.__version__))\n",
    "\n",
    "import numpy as np\n",
    "print(\"NumPy version: {}\".format(np.__version__))\n",
    "\n",
    "import scipy as sp\n",
    "print(\"SciPy version: {}\".format(sp.__version__))\n",
    "\n",
    "import IPython\n",
    "print(\"IPython version: {}\".format(IPython.__version__))\n",
    "\n",
    "import sklearn\n",
    "print(\"scikit-learn version: {}\".format(sklearn.__version__))"
   ]
  },
  {
   "cell_type": "code",
   "execution_count": null,
   "id": "1f524b78-596f-4e1a-ade4-2f24e97ee1cc",
   "metadata": {},
   "outputs": [],
   "source": []
  }
 ],
 "metadata": {
  "kernelspec": {
   "display_name": "Python [conda env:base] *",
   "language": "python",
   "name": "conda-base-py"
  },
  "language_info": {
   "codemirror_mode": {
    "name": "ipython",
    "version": 3
   },
   "file_extension": ".py",
   "mimetype": "text/x-python",
   "name": "python",
   "nbconvert_exporter": "python",
   "pygments_lexer": "ipython3",
   "version": "3.12.7"
  }
 },
 "nbformat": 4,
 "nbformat_minor": 5
}
